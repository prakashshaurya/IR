{
 "cells": [
  {
   "cell_type": "code",
   "execution_count": 3,
   "id": "f4e4d85f",
   "metadata": {},
   "outputs": [
    {
     "data": {
      "text/plain": [
       "array([[0.685, 0.165, 0.15 ],\n",
       "       [0.33 , 0.43 , 0.24 ],\n",
       "       [0.375, 0.3  , 0.325]])"
      ]
     },
     "execution_count": 3,
     "metadata": {},
     "output_type": "execute_result"
    }
   ],
   "source": [
    "# Assume that a man’s profession can be classified as professional, skilled labourer,\n",
    "# or unskilled labourer. Assume that, of the sons of professional men, 80 percent are\n",
    "# professional, 10 percent are skilled labourers, and 10 percent are unskilled labourers.\n",
    "# In the case of sons of skilled labourers, 60 percent are skilled labourers, 20 percent are\n",
    "# professional, and 20 percent are unskilled. Finally, in the case of unskilled labourers,\n",
    "# 50 percent of the sons are unskilled labourers, and 25 percent each are in the other\n",
    "# two categories. Assume that every man has at least one son, and form a Markov chain\n",
    "# by following the profession of a randomly chosen son of a given family through several\n",
    "# generations. Set up the matrix of transition probabilities. Find the probability that a\n",
    "# randomly chosen grandson of an unskilled labourer is a professional man.\n",
    "\n",
    "\n",
    "#   states = {professional,skilled labour,unskilled labour}\n",
    "import numpy as np\n",
    "arr =  np.array([[.8,.1,.1] ,[.2,.6,.2],[.25,.25,.5]])\n",
    "arr_square = np.matmul(arr,arr)\n",
    "arr_square"
   ]
  },
  {
   "cell_type": "code",
   "execution_count": null,
   "id": "1f75d56b",
   "metadata": {},
   "outputs": [],
   "source": [
    "#Find the probability that a randomly chosen grandson of an unskilled labourer is a professional man.\n",
    "# Answer : Square of matrix means for grandson. so 37.5% chances that a  randomly chosen grandson of an unskilled labourer is a professional man"
   ]
  }
 ],
 "metadata": {
  "kernelspec": {
   "display_name": "Python 3 (ipykernel)",
   "language": "python",
   "name": "python3"
  },
  "language_info": {
   "codemirror_mode": {
    "name": "ipython",
    "version": 3
   },
   "file_extension": ".py",
   "mimetype": "text/x-python",
   "name": "python",
   "nbconvert_exporter": "python",
   "pygments_lexer": "ipython3",
   "version": "3.9.7"
  }
 },
 "nbformat": 4,
 "nbformat_minor": 5
}
